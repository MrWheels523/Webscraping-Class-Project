{
 "cells": [
  {
   "cell_type": "markdown",
   "metadata": {},
   "source": [
    "# COMMAND IDEAS\n",
    "google search - need any word/topic from a user (https://www.google.com)\n",
    "\n",
    "synonyms - need a word (https://www.thesaurus.com/browse/synonym) \n",
    "\n",
    "weather - need the user's zip code (https://www.accuweather.com/)\n",
    "\n",
    "fun fact - displays a random fun fact to the user (https://www.thefactsite.com/1000-interesting-facts/)\n",
    "\n",
    "motivational quotes - displays a random motivational quote ()\n",
    "\n",
    "newegg computer parts - search for computer parts\n",
    "\n",
    "English/Spanish translator (any words) - translates both ways (https://www.spanishdict.com/)\n",
    "\n",
    "breaking news - finds breaking news\n",
    "\n",
    "history today - what happened today in history"
   ]
  },
  {
   "cell_type": "code",
   "execution_count": 10,
   "metadata": {},
   "outputs": [],
   "source": [
    "def menu(): \n",
    "    '''\n",
    "    Displays commands that the\n",
    "    user can access within the program\n",
    "    '''\n",
    "    \n",
    "    userChoice = ''\n",
    "    while userChoice != 'exit':\n",
    "        \n",
    "        print(\"command 1 - description\")\n",
    "        print(\"command 2 - description\")\n",
    "        print(\"command 3 - description\")\n",
    "        print(\"command 4 - description\")\n",
    "        print(\"exit - to exit the program\")\n",
    "\n",
    "        userChoice = input(\"\\nPlease enter a command: \").lower()\n",
    "        \n",
    "        "
   ]
  }
 ],
 "metadata": {
  "kernelspec": {
   "display_name": "Python 3",
   "language": "python",
   "name": "python3"
  },
  "language_info": {
   "codemirror_mode": {
    "name": "ipython",
    "version": 3
   },
   "file_extension": ".py",
   "mimetype": "text/x-python",
   "name": "python",
   "nbconvert_exporter": "python",
   "pygments_lexer": "ipython3",
   "version": "3.8.5"
  }
 },
 "nbformat": 4,
 "nbformat_minor": 4
}
