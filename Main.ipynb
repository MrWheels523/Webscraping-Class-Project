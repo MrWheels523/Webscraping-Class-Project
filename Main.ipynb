{
 "cells": [
  {
   "cell_type": "markdown",
   "metadata": {},
   "source": [
    "# COMMAND IDEAS\n",
    "google search - need any word/topic from a user (https://www.google.com)\n",
    "\n",
    "synonyms - need a word (https://www.thesaurus.com/browse/synonym) \n",
    "\n",
    "weather - need the user's zip code (https://www.accuweather.com/)\n",
    "\n",
    "fun fact - displays a random fun fact to the user (https://www.thefactsite.com/1000-interesting-facts/)\n",
    "\n",
    "motivational quotes - displays a random motivational quote ()\n",
    "\n",
    "newegg computer parts - search for computer parts\n",
    "\n",
    "English/Spanish translator (any words) - translates both ways (https://www.spanishdict.com/)\n",
    "\n",
    "breaking news - finds breaking news\n",
    "\n",
    "history today - what happened today in history"
   ]
  },
  {
   "cell_type": "code",
   "execution_count": 10,
   "metadata": {},
   "outputs": [],
   "source": [
    "def menu(): \n",
    "    '''\n",
    "    Displays commands that the\n",
    "    user can access within the program\n",
    "    '''\n",
    "    \n",
    "    userChoice = ''\n",
    "    while userChoice != 'exit':\n",
    "        \n",
    "        print(\"command 1 - description\")\n",
    "        print(\"command 2 - description\")\n",
    "        print(\"command 3 - description\")\n",
    "        print(\"command 4 - description\")\n",
    "        print(\"exit - to exit the program\")\n",
    "\n",
    "        userChoice = input(\"\\nPlease enter a command: \").lower()\n",
    "        \n",
    "        "
   ]
  }
 ],
 "metadata": {
  "kernelspec": {
   "display_name": "Python 3",
   "language": "python",
   "name": "python3"
  },
  "language_info": {
   "codemirror_mode": {
    "name": "ipython",
    "version": 3
   },
   "file_extension": ".py",
   "mimetype": "text/x-python",
   "name": "python",
   "nbconvert_exporter": "python",
   "pygments_lexer": "ipython3",
   "version": "3.8.5"
  }
 },
 "nbformat": 4,
 "nbformat_minor": 4
}
from bs4 import BeautifulSoup as soup
from urllib.request import urlopen as uReq
from prettyprinter import pprint
from googlesearch import search
from translate import Translator
import re
def google_search():
    query = input("Search query:")
    for i in search(query, tld="com", num = 10, stop=10, pause=2):
        print(i)
def translator():
    language = Translator(from_lang="English", to_lang="Spanish")
    word = input("What word would like to translate in Spanish?")
    translated_word = language.translate(word)
    print(translated_word)

def synonyms():
    i = 0
    word = input("Type in word for synony ")
    my_url = "https://www.thesaurus.com/browse/"+ word + ""
    client = uReq(my_url)
    html = client.read()
    client.close()
    letter = soup(html, "html.parser")
    word_search = letter.findAll("div", {"class" : "css-16lv1yi e1qo4u831"})
    for find_word in word_search:
        found_word = find_word.findAll("a", {"class": "css-1kg1yv8 eh475bn0"})
        print(found_word.get('href'))
def main(): 
    '''
    Displays commands that the
    user can access within the program
    '''
    
    userChoice = ' '
    while userChoice != 'exit':
        print()
        print("command 1 - Google Search")
        print("command 2 - Synonyms")
        print("command 3 - Weather")
        print("command 4 - Fun Fact")
        print("command 5 - Translator from English to Spanish")
        print("exit - to exit the program")
        userChoice = input("\nPlease enter a command: ").lower()
        print()
        if userChoice == "1":
            google_search()
        elif userChoice == "2":
            synonyms()
        elif userChoice == "3":
             weather()
        elif userChoice == "4":
            fun_fact()
        elif userChoice == "5":
            translator()
        
if __name__ == "__main__":
    main()  
