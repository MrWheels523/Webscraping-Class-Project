{
 "cells": [
  {
   "cell_type": "code",
   "execution_count": 104,
   "metadata": {},
   "outputs": [
    {
     "name": "stdout",
     "output_type": "stream",
     "text": [
      "Bing search: how to become a millionaire\n",
      "loading search...\n",
      "\n",
      "The Best Ways to Become a Millionaire\n",
      "https://www.thebalance.com/becoming-a-millionaire-2388379\n",
      "\n",
      "How To Become A Millionaire – Forbes Advisor\n",
      "https://www.forbes.com/advisor/investing/how-to-become-a-millionaire/\n",
      "\n",
      "How to Become a Millionaire - Investopedia\n",
      "https://www.investopedia.com/financial-advisor/how-much-save-to-become-millionaire/\n",
      "\n",
      "How to Become a Millionaire from Nothing in 2021\n",
      "https://triedandtruemomjobs.com/become-a-millionaire/\n",
      "\n",
      "10 easy steps for becoming a millionaire - MSN\n",
      "https://www.msn.com/en-us/money/personalfinance/10-steps-to-become-a-millionaire/ss-BB17DDWy\n",
      "\n",
      "How to Become a Millionaire (with Pictures) - wikiHow\n",
      "https://www.wikihow.com/Become-a-Millionaire\n",
      "\n",
      "How To Become A Millionaire In Your 30s - Forbes\n",
      "https://www.forbes.com/sites/jrose/2019/09/24/how-to-become-a-millionaire-in-your-30s/\n",
      "\n",
      "This is the fastest path to becoming a millionaire, says ...\n",
      "https://www.cnbc.com/2019/11/19/fastest-way-to-become-a-millionaire-is-the-hardest-says-money-expert.html\n",
      "\n"
     ]
    }
   ],
   "source": [
    "from bs4 import BeautifulSoup as soup\n",
    "from urllib.request import urlopen as uReq\n",
    "from urllib.error import HTTPError\n",
    "from googlesearch import search\n",
    "import requests\n",
    "import re\n",
    "import random\n",
    "\n",
    "session = requests.Session()\n",
    "\n",
    "# optional\n",
    "session.headers = {\n",
    "'User-Agent': 'Mozilla/5.0 (Windows NT 6.3; Win64; x64) AppleWebKit/537.36 (KHTML, like Gecko) Chrome/44.0.2403.61 Safari/537.36',\n",
    "'Accept': 'text/html,application/xhtml+xml,application/xml;q=0.9,*/*;q=0.8',\n",
    "'Accept-Language': 'en-US,en;q=0.5',\n",
    "'Referer': 'https://www.google.com'\n",
    "    }\n",
    "\n",
    "# hard code\n",
    "search = input(\"Bing search: \")\n",
    "\n",
    "print(\"loading search...\\n\")\n",
    "\n",
    "url = ('https://www.bing.com/search?q=' + search)\n",
    "webpage = session.get(url)\n",
    "\n",
    "if webpage.ok == True:\n",
    "    html = soup(webpage.text,\"html.parser\")\n",
    "    \n",
    "    text = html.findAll('li',{'class':'b_algo'})\n",
    "\n",
    "    for texts in text:\n",
    "        print(texts.h2.text)\n",
    "        print(texts.h2.a.get(\"href\"))\n",
    "        print()\n",
    "    \n",
    "else:\n",
    "    print(\"Could not load webpage!\")\n",
    "\n",
    "\n",
    "    "
   ]
  },
  {
   "cell_type": "code",
   "execution_count": null,
   "metadata": {},
   "outputs": [],
   "source": []
  }
 ],
 "metadata": {
  "kernelspec": {
   "display_name": "Python 3",
   "language": "python",
   "name": "python3"
  },
  "language_info": {
   "codemirror_mode": {
    "name": "ipython",
    "version": 3
   },
   "file_extension": ".py",
   "mimetype": "text/x-python",
   "name": "python",
   "nbconvert_exporter": "python",
   "pygments_lexer": "ipython3",
   "version": "3.8.5"
  }
 },
 "nbformat": 4,
 "nbformat_minor": 4
}
