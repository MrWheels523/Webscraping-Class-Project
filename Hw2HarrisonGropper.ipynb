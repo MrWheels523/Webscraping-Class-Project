{
 "cells": [
  {
   "cell_type": "markdown",
   "metadata": {},
   "source": [
    "1.\tUsing the Juypyter notebook, write a python program that converts the time in seconds, to the number of hours, minutes and seconds.  Ask the user to input the time in seconds.  Then convert that number into hours, minutes and seconds.  You are given that there are 60 seconds in a minute, and 60 minutes in an hour.  For example, 11,730 seconds will convert to 3 hours, 15 minutes and 30 seconds.  You can write it within one cell within the notebook and turn on your line numbers.  "
   ]
  },
  {
   "cell_type": "code",
   "execution_count": 2,
   "metadata": {},
   "outputs": [
    {
     "name": "stdout",
     "output_type": "stream",
     "text": [
      "Enter the number of seconds: 11730\n",
      "The time in hours, minutes, and seconds is:\n",
      "\tHours: 3.0\n",
      "\tMinutes: 15.0\n",
      "\tSeconds: 30.0\n"
     ]
    }
   ],
   "source": [
    "# Author: Harrison Gropper\n",
    "# Date: 01/25/2020\n",
    "\n",
    "# The code below asks the user to enter a time in seconds\n",
    "# After the program calculates the time in the total\n",
    "# hours minutes and seconds\n",
    "\n",
    "\n",
    "timeInSeconds = int(input('Enter the number of seconds: ')) \n",
    "\n",
    "hour = int(timeInSeconds / 3600) + 0.0\n",
    "timeInSeconds = timeInSeconds - (hour * 3600)\n",
    "\n",
    "minute = int(timeInSeconds / 60) + 0.0\n",
    "timeInSeconds = timeInSeconds - (minute * 60)\n",
    "\n",
    "second = timeInSeconds + 0.0\n",
    "\n",
    "print('The time in hours, minutes, and seconds is:')\n",
    "print('\\tHours: ' + str(hour) + '\\n' + \n",
    "      '\\tMinutes: ' + str(minute) + '\\n' + \n",
    "      '\\tSeconds: ' + str(second))"
   ]
  },
  {
   "cell_type": "markdown",
   "metadata": {},
   "source": [
    "2.\tAgain, in another cell in the Jupyter notebook, write a program that converts Fahrenheit temperature to Celsius.  Ask the user to enter the temperature in Fahrenheit.  Then have the program convert that to Celsius.  Make your sample output similar to the previous problem."
   ]
  },
  {
   "cell_type": "code",
   "execution_count": 3,
   "metadata": {
    "scrolled": true
   },
   "outputs": [
    {
     "name": "stdout",
     "output_type": "stream",
     "text": [
      "Enter a temperature in fahrenheit: 32\n",
      "The fahrenheit converted to celsius is:\n",
      "\tCelsius: 0.0\n"
     ]
    }
   ],
   "source": [
    "# The code below converts Fahrenheit to Celsius\n",
    "fahrenheit = int(input('Enter a temperature in fahrenheit: '))\n",
    "\n",
    "celsius = (fahrenheit - 32) * (9/5)\n",
    "print('The fahrenheit converted to celsius is:')\n",
    "print('\\tCelsius: ' + str(celsius))\n"
   ]
  }
 ],
 "metadata": {
  "kernelspec": {
   "display_name": "Python 3",
   "language": "python",
   "name": "python3"
  },
  "language_info": {
   "codemirror_mode": {
    "name": "ipython",
    "version": 3
   },
   "file_extension": ".py",
   "mimetype": "text/x-python",
   "name": "python",
   "nbconvert_exporter": "python",
   "pygments_lexer": "ipython3",
   "version": "3.8.5"
  }
 },
 "nbformat": 4,
 "nbformat_minor": 4
}
